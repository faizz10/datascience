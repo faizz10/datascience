{
  "nbformat": 4,
  "nbformat_minor": 0,
  "metadata": {
    "colab": {
      "provenance": [],
      "authorship_tag": "ABX9TyPRZlo6Htr4NRbpWaao1VVE",
      "include_colab_link": true
    },
    "kernelspec": {
      "name": "python3",
      "display_name": "Python 3"
    },
    "language_info": {
      "name": "python"
    }
  },
  "cells": [
    {
      "cell_type": "markdown",
      "metadata": {
        "id": "view-in-github",
        "colab_type": "text"
      },
      "source": [
        "<a href=\"https://colab.research.google.com/github/faizz10/datascience/blob/main/p5.ipynb\" target=\"_parent\"><img src=\"https://colab.research.google.com/assets/colab-badge.svg\" alt=\"Open In Colab\"/></a>"
      ]
    },
    {
      "cell_type": "code",
      "execution_count": null,
      "metadata": {
        "colab": {
          "base_uri": "https://localhost:8080/"
        },
        "id": "XG4ksV0T0SCC",
        "outputId": "5fe87397-0ab4-4fa3-8490-e4e5a779460c"
      },
      "outputs": [
        {
          "output_type": "stream",
          "name": "stdout",
          "text": [
            "Matrix A:\n",
            "[[ 2  1 -2]\n",
            " [ 3  0  1]\n",
            " [ 1  1 -1]]\n",
            "Vector b:\n",
            "[-3  5 -2]\n",
            "Solution for x:\n",
            "[ 1. -1.  2.]\n"
          ]
        }
      ],
      "source": [
        "\n",
        "import numpy as np\n",
        "\n",
        "A = np.array([[2, 1, -2],[3, 0, 1],[1, 1, -1]])\n",
        "b = np.array([-3, 5, -2])\n",
        "x = np.linalg.solve(A, b)\n",
        "print(\"Matrix A:\")\n",
        "print(A)\n",
        "\n",
        "print(\"Vector b:\")\n",
        "print(b)\n",
        "\n",
        "print(\"Solution for x:\")\n",
        "print(x)"
      ]
    }
  ]
}